{
 "cells": [
  {
   "cell_type": "code",
   "execution_count": 2,
   "metadata": {},
   "outputs": [],
   "source": [
    "import os\n",
    "import numpy as np\n",
    "import pandas as pd\n",
    "import torch\n",
    "import torch.utils.data as data\n",
    "import torch.nn as nn\n",
    "import torch.optim as optim\n",
    "import matplotlib.pyplot as plt\n",
    "from tqdm import tqdm\n",
    "from utils import get_data, preprocess, split_dataset\n",
    "from model import PRnet"
   ]
  },
  {
   "cell_type": "code",
   "execution_count": 3,
   "metadata": {},
   "outputs": [],
   "source": [
    "device = torch.device('cuda:0') if torch.cuda.is_available else torch.device('cpu')\n",
    "batch_size = 256\n",
    "input_size = 1 \n",
    "hidden_size = 32\n",
    "num_heads = 2\n",
    "lr = 0.001\n",
    "epochs = 40\n",
    "eval_every=1"
   ]
  },
  {
   "cell_type": "markdown",
   "metadata": {},
   "source": [
    "## Data Loading and Preprocessing"
   ]
  },
  {
   "cell_type": "code",
   "execution_count": 6,
   "metadata": {},
   "outputs": [
    {
     "name": "stdout",
     "output_type": "stream",
     "text": [
      "train samples:  17213\n",
      "eval samples:  2459\n",
      "test samples:  4918\n",
      "Data Loaded\n"
     ]
    }
   ],
   "source": [
    "data_list = get_data()\n",
    "total_data = preprocess(data_list)\n",
    "total_data =split_dataset(total_data)\n",
    "datasets, loaders={},{}\n",
    "for datatype in ['train', 'eval', 'test']:\n",
    "    datasets[datatype] = data.TensorDataset(torch.from_numpy(total_data[datatype][:,:-1]),torch.from_numpy(total_data[datatype][:, -1]))\n",
    "    loaders[datatype] = data.DataLoader(datasets[datatype], batch_size=batch_size, shuffle=True)\n",
    "    num = len(datasets[datatype])\n",
    "    print(f'{datatype} samples:  {num}')\n",
    "print('Data Loaded')"
   ]
  },
  {
   "cell_type": "markdown",
   "metadata": {},
   "source": [
    "## Model Loading Training"
   ]
  },
  {
   "cell_type": "code",
   "execution_count": 7,
   "metadata": {},
   "outputs": [],
   "source": [
    "model = PRnet(input_size, hidden_size, num_heads).to(device)\n",
    "optimizer = optim.Adam(model.parameters(), lr=lr)\n",
    "loss_function = nn.CrossEntropyLoss()"
   ]
  },
  {
   "cell_type": "code",
   "execution_count": 12,
   "metadata": {},
   "outputs": [
    {
     "name": "stderr",
     "output_type": "stream",
     "text": [
      "[Epoch   1/40]: 100%|██████████| 17213/17213 [00:02<00:00, 7841.66it/s, loss=0.988, val_loss=0.894, val acc=tensor(0.6145, device='cuda:0')]\n",
      "[Epoch   2/40]: 100%|██████████| 17213/17213 [00:02<00:00, 7672.06it/s, loss=0.73, val_loss=0.667, val acc=tensor(0.8691, device='cuda:0')]\n",
      "[Epoch   3/40]: 100%|██████████| 17213/17213 [00:02<00:00, 7950.95it/s, loss=0.606, val_loss=0.559, val acc=tensor(0.9947, device='cuda:0')]\n",
      "[Epoch   4/40]: 100%|██████████| 17213/17213 [00:02<00:00, 8224.09it/s, loss=0.558, val_loss=0.555, val acc=tensor(0.9972, device='cuda:0')]\n",
      "[Epoch   5/40]: 100%|██████████| 17213/17213 [00:02<00:00, 8073.94it/s, loss=0.556, val_loss=0.554, val acc=tensor(0.9980, device='cuda:0')]\n",
      "[Epoch   6/40]: 100%|██████████| 17213/17213 [00:02<00:00, 8007.61it/s, loss=0.555, val_loss=0.554, val acc=tensor(0.9980, device='cuda:0')]\n",
      "[Epoch   7/40]: 100%|██████████| 17213/17213 [00:02<00:00, 8207.56it/s, loss=0.555, val_loss=0.554, val acc=tensor(0.9980, device='cuda:0')]\n",
      "[Epoch   8/40]: 100%|██████████| 17213/17213 [00:02<00:00, 7973.38it/s, loss=0.555, val_loss=0.554, val acc=tensor(0.9980, device='cuda:0')]\n",
      "[Epoch   9/40]: 100%|██████████| 17213/17213 [00:02<00:00, 8038.88it/s, loss=0.555, val_loss=0.553, val acc=tensor(0.9980, device='cuda:0')]\n",
      "[Epoch  10/40]: 100%|██████████| 17213/17213 [00:02<00:00, 8198.79it/s, loss=0.555, val_loss=0.553, val acc=tensor(0.9980, device='cuda:0')]\n",
      "[Epoch  11/40]: 100%|██████████| 17213/17213 [00:02<00:00, 8001.53it/s, loss=0.555, val_loss=0.554, val acc=tensor(0.9980, device='cuda:0')]\n",
      "[Epoch  12/40]: 100%|██████████| 17213/17213 [00:02<00:00, 7942.60it/s, loss=0.555, val_loss=0.553, val acc=tensor(0.9980, device='cuda:0')]\n",
      "[Epoch  13/40]: 100%|██████████| 17213/17213 [00:02<00:00, 7700.10it/s, loss=0.555, val_loss=0.553, val acc=tensor(0.9980, device='cuda:0')]\n",
      "[Epoch  14/40]: 100%|██████████| 17213/17213 [00:02<00:00, 7941.98it/s, loss=0.555, val_loss=0.553, val acc=tensor(0.9980, device='cuda:0')]\n",
      "[Epoch  15/40]: 100%|██████████| 17213/17213 [00:02<00:00, 8031.16it/s, loss=0.555, val_loss=0.553, val acc=tensor(0.9980, device='cuda:0')]\n",
      "[Epoch  16/40]: 100%|██████████| 17213/17213 [00:02<00:00, 8142.00it/s, loss=0.555, val_loss=0.554, val acc=tensor(0.9980, device='cuda:0')]\n",
      "[Epoch  17/40]: 100%|██████████| 17213/17213 [00:02<00:00, 8162.28it/s, loss=0.555, val_loss=0.553, val acc=tensor(0.9988, device='cuda:0')]\n",
      "[Epoch  18/40]: 100%|██████████| 17213/17213 [00:02<00:00, 8104.68it/s, loss=0.555, val_loss=0.554, val acc=tensor(0.9980, device='cuda:0')]\n",
      "[Epoch  19/40]: 100%|██████████| 17213/17213 [00:02<00:00, 8091.53it/s, loss=0.555, val_loss=0.553, val acc=tensor(0.9980, device='cuda:0')]\n",
      "[Epoch  20/40]: 100%|██████████| 17213/17213 [00:02<00:00, 7912.58it/s, loss=0.555, val_loss=0.554, val acc=tensor(0.9980, device='cuda:0')]\n",
      "[Epoch  21/40]: 100%|██████████| 17213/17213 [00:02<00:00, 7934.37it/s, loss=0.555, val_loss=0.553, val acc=tensor(0.9980, device='cuda:0')]\n",
      "[Epoch  22/40]: 100%|██████████| 17213/17213 [00:02<00:00, 8120.56it/s, loss=0.555, val_loss=0.553, val acc=tensor(0.9980, device='cuda:0')]\n",
      "[Epoch  23/40]: 100%|██████████| 17213/17213 [00:02<00:00, 7989.76it/s, loss=0.555, val_loss=0.553, val acc=tensor(0.9980, device='cuda:0')]\n",
      "[Epoch  24/40]: 100%|██████████| 17213/17213 [00:02<00:00, 7753.19it/s, loss=0.555, val_loss=0.554, val acc=tensor(0.9980, device='cuda:0')]\n",
      "[Epoch  25/40]: 100%|██████████| 17213/17213 [00:02<00:00, 8099.64it/s, loss=0.555, val_loss=0.553, val acc=tensor(0.9980, device='cuda:0')]\n",
      "[Epoch  26/40]: 100%|██████████| 17213/17213 [00:02<00:00, 7854.92it/s, loss=0.555, val_loss=0.553, val acc=tensor(0.9980, device='cuda:0')]\n",
      "[Epoch  27/40]: 100%|██████████| 17213/17213 [00:02<00:00, 7882.70it/s, loss=0.555, val_loss=0.553, val acc=tensor(0.9980, device='cuda:0')]\n",
      "[Epoch  28/40]: 100%|██████████| 17213/17213 [00:02<00:00, 8056.31it/s, loss=0.555, val_loss=0.553, val acc=tensor(0.9980, device='cuda:0')]\n",
      "[Epoch  29/40]: 100%|██████████| 17213/17213 [00:02<00:00, 8027.78it/s, loss=0.555, val_loss=0.552, val acc=tensor(0.9992, device='cuda:0')]\n",
      "[Epoch  30/40]: 100%|██████████| 17213/17213 [00:02<00:00, 7695.70it/s, loss=0.555, val_loss=0.552, val acc=tensor(0.9992, device='cuda:0')]\n",
      "[Epoch  31/40]: 100%|██████████| 17213/17213 [00:02<00:00, 7816.74it/s, loss=0.555, val_loss=0.553, val acc=tensor(0.9992, device='cuda:0')]\n",
      "[Epoch  32/40]: 100%|██████████| 17213/17213 [00:02<00:00, 7774.10it/s, loss=0.554, val_loss=0.552, val acc=tensor(0.9992, device='cuda:0')]\n",
      "[Epoch  33/40]: 100%|██████████| 17213/17213 [00:02<00:00, 8159.80it/s, loss=0.554, val_loss=0.552, val acc=tensor(0.9992, device='cuda:0')]\n",
      "[Epoch  34/40]: 100%|██████████| 17213/17213 [00:02<00:00, 8171.38it/s, loss=0.554, val_loss=0.552, val acc=tensor(0.9992, device='cuda:0')]\n",
      "[Epoch  35/40]: 100%|██████████| 17213/17213 [00:02<00:00, 7800.07it/s, loss=0.554, val_loss=0.552, val acc=tensor(0.9992, device='cuda:0')]\n",
      "[Epoch  36/40]: 100%|██████████| 17213/17213 [00:02<00:00, 7768.75it/s, loss=0.554, val_loss=0.552, val acc=tensor(0.9992, device='cuda:0')]\n",
      "[Epoch  37/40]: 100%|██████████| 17213/17213 [00:02<00:00, 7895.51it/s, loss=0.554, val_loss=0.552, val acc=tensor(0.9992, device='cuda:0')]\n",
      "[Epoch  38/40]: 100%|██████████| 17213/17213 [00:02<00:00, 7797.13it/s, loss=0.554, val_loss=0.552, val acc=tensor(0.9992, device='cuda:0')]\n",
      "[Epoch  39/40]: 100%|██████████| 17213/17213 [00:02<00:00, 7839.22it/s, loss=0.555, val_loss=0.552, val acc=tensor(0.9992, device='cuda:0')]\n",
      "[Epoch  40/40]: 100%|██████████| 17213/17213 [00:02<00:00, 7848.49it/s, loss=0.554, val_loss=0.552, val acc=tensor(0.9992, device='cuda:0')]\n"
     ]
    }
   ],
   "source": [
    "model_save_path = 'checkpoints/prnet.pkl'\n",
    "val_loss_best = np.inf\n",
    "for ep in range(epochs):\n",
    "    with tqdm(total=len(loaders['train'].dataset), desc=f\"[Epoch {ep+1:3d}/{epochs}]\") as pbar:\n",
    "        running_loss=0\n",
    "        model.train()\n",
    "        for idx_batch, (x, y) in enumerate(loaders['train']):\n",
    "            optimizer.zero_grad()\n",
    "            x, y = x.unsqueeze(2).float().to(device), y.long().to(device)    \n",
    "            pred = model(x)\n",
    "            loss = loss_function(pred, y)\n",
    "            \n",
    "            loss.backward()\n",
    "            optimizer.step()\n",
    "\n",
    "            running_loss += loss.item()\n",
    "            pbar.set_postfix({'loss': running_loss/(idx_batch+1)})\n",
    "            pbar.update(x.shape[0])\n",
    "        train_loss = running_loss/len(loaders['train'])\n",
    "        \n",
    "        if ep % eval_every==0:\n",
    "            running_loss = 0\n",
    "            correct = 0\n",
    "            model.eval()\n",
    "            for idx_batch, (x, y) in enumerate(loaders['eval']):\n",
    "                x, y = x.unsqueeze(2).float().to(device), y.long().to(device)     \n",
    "                pred = model(x)\n",
    "                loss = loss_function(pred, y)\n",
    "                running_loss += loss.item()\n",
    "                pred =  pred.argmax(dim=-1)\n",
    "                correct += (pred==y).sum()\n",
    "\n",
    "            val_loss = running_loss/len(loaders['eval'])\n",
    "            val_acc = correct/len(datasets['eval'])\n",
    "        \n",
    "        pbar.set_postfix({'loss': train_loss, 'val_loss': val_loss, 'val acc': val_acc})\n",
    "        \n",
    "        if val_loss < val_loss_best:\n",
    "            val_loss_best = val_loss\n",
    "            torch.save(model.state_dict(), model_save_path) \n",
    "    "
   ]
  },
  {
   "cell_type": "markdown",
   "metadata": {},
   "source": [
    "## Inference"
   ]
  },
  {
   "cell_type": "code",
   "execution_count": 10,
   "metadata": {},
   "outputs": [
    {
     "name": "stdout",
     "output_type": "stream",
     "text": [
      "test acc: 0.9973565936088562\n"
     ]
    }
   ],
   "source": [
    "model.load_state_dict(torch.load('checkpoints/prnet.pkl'))\n",
    "model.eval()\n",
    "correct = 0\n",
    "for idx_batch, (x, y) in enumerate(loaders['test']):\n",
    "    x, y = x.unsqueeze(2).float().to(device), y.long().to(device)     \n",
    "    pred = model(x)\n",
    "    pred =  pred.argmax(dim=-1)\n",
    "    correct += (pred==y).sum()\n",
    "test_acc = correct/len(datasets['test'])\n",
    "print(f'test acc: {test_acc}')"
   ]
  },
  {
   "cell_type": "code",
   "execution_count": 186,
   "metadata": {},
   "outputs": [
    {
     "name": "stdout",
     "output_type": "stream",
     "text": [
      "¸\n"
     ]
    }
   ],
   "source": [
    "print(chr(int('0xb8', 16)))"
   ]
  }
 ],
 "metadata": {
  "interpreter": {
   "hash": "cf385c0cc3f85135bc0a8f678b97d364561e41e26bffba72d54a2bd430e4ca9b"
  },
  "kernelspec": {
   "display_name": "Python 3.8.12 ('lc')",
   "language": "python",
   "name": "python3"
  },
  "language_info": {
   "codemirror_mode": {
    "name": "ipython",
    "version": 3
   },
   "file_extension": ".py",
   "mimetype": "text/x-python",
   "name": "python",
   "nbconvert_exporter": "python",
   "pygments_lexer": "ipython3",
   "version": "3.8.12"
  },
  "orig_nbformat": 4
 },
 "nbformat": 4,
 "nbformat_minor": 2
}
